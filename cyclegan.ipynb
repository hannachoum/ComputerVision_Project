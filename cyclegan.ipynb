{
 "cells": [
  {
   "cell_type": "markdown",
   "metadata": {
    "id": "v1CUZ0dkOo_F"
   },
   "source": [
    "##### Copyright 2019 The TensorFlow Authors."
   ]
  },
  {
   "cell_type": "code",
   "execution_count": 1,
   "metadata": {
    "cellView": "form",
    "execution": {
     "iopub.execute_input": "2022-08-03T01:21:23.315181Z",
     "iopub.status.busy": "2022-08-03T01:21:23.314738Z",
     "iopub.status.idle": "2022-08-03T01:21:23.318726Z",
     "shell.execute_reply": "2022-08-03T01:21:23.318196Z"
    },
    "id": "qmkj-80IHxnd"
   },
   "outputs": [],
   "source": [
    "#@title Licensed under the Apache License, Version 2.0 (the \"License\");\n",
    "# you may not use this file except in compliance with the License.\n",
    "# You may obtain a copy of the License at\n",
    "#\n",
    "# https://www.apache.org/licenses/LICENSE-2.0\n",
    "#\n",
    "# Unless required by applicable law or agreed to in writing, software\n",
    "# distributed under the License is distributed on an \"AS IS\" BASIS,\n",
    "# WITHOUT WARRANTIES OR CONDITIONS OF ANY KIND, either express or implied.\n",
    "# See the License for the specific language governing permissions and\n",
    "# limitations under the License."
   ]
  },
  {
   "cell_type": "markdown",
   "metadata": {
    "id": "_xnMOsbqHz61"
   },
   "source": [
    "# CycleGAN"
   ]
  },
  {
   "cell_type": "markdown",
   "metadata": {
    "id": "Ds4o1h4WHz9U"
   },
   "source": [
    "<table class=\"tfo-notebook-buttons\" align=\"left\">\n",
    "  <td>\n",
    "    <a target=\"_blank\" href=\"https://www.tensorflow.org/tutorials/generative/cyclegan\"><img src=\"https://www.tensorflow.org/images/tf_logo_32px.png\" />View on TensorFlow.org</a>\n",
    "  </td>\n",
    "  <td>\n",
    "    <a target=\"_blank\" href=\"https://colab.research.google.com/github/tensorflow/docs/blob/master/site/en/tutorials/generative/cyclegan.ipynb\"><img src=\"https://www.tensorflow.org/images/colab_logo_32px.png\" />Run in Google Colab</a>\n",
    "  </td>\n",
    "  <td>\n",
    "    <a target=\"_blank\" href=\"https://github.com/tensorflow/docs/blob/master/site/en/tutorials/generative/cyclegan.ipynb\"><img src=\"https://www.tensorflow.org/images/GitHub-Mark-32px.png\" />View source on GitHub</a>\n",
    "  </td>\n",
    "  <td>\n",
    "    <a href=\"https://storage.googleapis.com/tensorflow_docs/docs/site/en/tutorials/generative/cyclegan.ipynb\"><img src=\"https://www.tensorflow.org/images/download_logo_32px.png\" />Download notebook</a>\n",
    "  </td>\n",
    "</table>"
   ]
  },
  {
   "cell_type": "markdown",
   "metadata": {
    "id": "ITZuApL56Mny"
   },
   "source": [
    "This notebook demonstrates unpaired image to image translation using conditional GAN's, as described in [Unpaired Image-to-Image Translation using Cycle-Consistent Adversarial Networks](https://arxiv.org/abs/1703.10593), also known as CycleGAN. The paper proposes a method that can capture the characteristics of one image domain and figure out how these characteristics could be translated into another image domain, all in the absence of any paired training examples. \n",
    "\n",
    "This notebook assumes you are familiar with Pix2Pix, which you can learn about in the [Pix2Pix tutorial](https://www.tensorflow.org/tutorials/generative/pix2pix). The code for CycleGAN is similar, the main difference is an additional loss function, and the use of unpaired training data.\n",
    "\n",
    "CycleGAN uses a cycle consistency loss to enable training without the need for paired data. In other words, it can translate from one domain to another without a one-to-one mapping between the source and target domain. \n",
    "\n",
    "This opens up the possibility to do a lot of interesting tasks like photo-enhancement, image colorization, style transfer, etc. All you need is the source and the target dataset (which is simply a directory of images).\n",
    "\n",
    "![Output Image 1](images/horse2zebra_1.png)\n",
    "![Output Image 2](images/horse2zebra_2.png)"
   ]
  },
  {
   "cell_type": "markdown",
   "metadata": {
    "id": "e1_Y75QXJS6h"
   },
   "source": [
    "## Set up the input pipeline"
   ]
  },
  {
   "cell_type": "markdown",
   "metadata": {
    "id": "5fGHWOKPX4ta"
   },
   "source": [
    "Install the [tensorflow_examples](https://github.com/tensorflow/examples) package that enables importing of the generator and the discriminator."
   ]
  },
  {
   "cell_type": "code",
   "execution_count": 2,
   "metadata": {
    "execution": {
     "iopub.execute_input": "2022-08-03T01:21:23.322215Z",
     "iopub.status.busy": "2022-08-03T01:21:23.321831Z",
     "iopub.status.idle": "2022-08-03T01:21:28.172494Z",
     "shell.execute_reply": "2022-08-03T01:21:28.171735Z"
    },
    "id": "bJ1ROiQxJ-vY",
    "scrolled": true
   },
   "outputs": [
    {
     "name": "stdout",
     "output_type": "stream",
     "text": [
      "Collecting git+https://github.com/tensorflow/examples.git"
     ]
    },
    {
     "name": "stderr",
     "output_type": "stream",
     "text": [
      "  Running command git clone --filter=blob:none --quiet https://github.com/tensorflow/examples.git 'C:\\Users\\hanna\\AppData\\Local\\Temp\\pip-req-build-kyd9cbyg'\n",
      "  WARNING: Built wheel for tensorflow-examples is invalid: Metadata 1.2 mandates PEP 440 version, but '2741b9ea31622676451e2ce1414d233de45f915f-' is not\n",
      "  error: subprocess-exited-with-error\n",
      "  \n",
      "  Running setup.py install for tensorflow-examples did not run successfully.\n",
      "  exit code: 1\n",
      "  \n",
      "  [67 lines of output]\n",
      "  C:\\Users\\hanna\\Desktop\\UNIVERSITE\\M1 polytechnique\\INF573_Image analysis and computer vision\\Project\\Env_Vision\\lib\\site-packages\\setuptools\\dist.py:544: UserWarning: The version specified ('2741b9ea31622676451e2ce1414d233de45f915f\\n') is an invalid version, this may not work as expected with newer versions of setuptools, pip, and PyPI. Please see PEP 440 for more details.\n",
      "    warnings.warn(\n",
      "  running install\n",
      "  C:\\Users\\hanna\\Desktop\\UNIVERSITE\\M1 polytechnique\\INF573_Image analysis and computer vision\\Project\\Env_Vision\\lib\\site-packages\\setuptools\\command\\install.py:34: SetuptoolsDeprecationWarning: setup.py install is deprecated. Use build and pip and other standards-based tools.\n",
      "    warnings.warn(\n",
      "  running build\n",
      "  running build_py\n",
      "  running install_lib\n",
      "  copying build\\lib\\tensorflow_examples\\lite\\model_maker\\cli\\cli.py -> C:\\Users\\hanna\\Desktop\\UNIVERSITE\\M1 polytechnique\\INF573_Image analysis and computer vision\\Project\\Env_Vision\\Lib\\site-packages\\tensorflow_examples\\lite\\model_maker\\cli\n",
      "  copying build\\lib\\tensorflow_examples\\lite\\model_maker\\cli\\cli_test.py -> C:\\Users\\hanna\\Desktop\\UNIVERSITE\\M1 polytechnique\\INF573_Image analysis and computer vision\\Project\\Env_Vision\\Lib\\site-packages\\tensorflow_examples\\lite\\model_maker\\cli\n",
      "  copying build\\lib\\tensorflow_examples\\lite\\model_maker\\cli\\__init__.py -> C:\\Users\\hanna\\Desktop\\UNIVERSITE\\M1 polytechnique\\INF573_Image analysis and computer vision\\Project\\Env_Vision\\Lib\\site-packages\\tensorflow_examples\\lite\\model_maker\\cli\n",
      "  copying build\\lib\\tensorflow_examples\\lite\\model_maker\\core\\api\\api_gen.py -> C:\\Users\\hanna\\Desktop\\UNIVERSITE\\M1 polytechnique\\INF573_Image analysis and computer vision\\Project\\Env_Vision\\Lib\\site-packages\\tensorflow_examples\\lite\\model_maker\\core\\api\n",
      "  copying build\\lib\\tensorflow_examples\\lite\\model_maker\\core\\api\\api_gen_test.py -> C:\\Users\\hanna\\Desktop\\UNIVERSITE\\M1 polytechnique\\INF573_Image analysis and computer vision\\Project\\Env_Vision\\Lib\\site-packages\\tensorflow_examples\\lite\\model_maker\\core\\api\n",
      "  copying build\\lib\\tensorflow_examples\\lite\\model_maker\\core\\api\\api_util.py -> C:\\Users\\hanna\\Desktop\\UNIVERSITE\\M1 polytechnique\\INF573_Image analysis and computer vision\\Project\\Env_Vision\\Lib\\site-packages\\tensorflow_examples\\lite\\model_maker\\core\\api\n",
      "  copying build\\lib\\tensorflow_examples\\lite\\model_maker\\core\\api\\api_util_test.py -> C:\\Users\\hanna\\Desktop\\UNIVERSITE\\M1 polytechnique\\INF573_Image analysis and computer vision\\Project\\Env_Vision\\Lib\\site-packages\\tensorflow_examples\\lite\\model_maker\\core\\api\n",
      "  copying build\\lib\\tensorflow_examples\\lite\\model_maker\\core\\api\\deprecated_api.py -> C:\\Users\\hanna\\Desktop\\UNIVERSITE\\M1 polytechnique\\INF573_Image analysis and computer vision\\Project\\Env_Vision\\Lib\\site-packages\\tensorflow_examples\\lite\\model_maker\\core\\api\n",
      "  copying build\\lib\\tensorflow_examples\\lite\\model_maker\\core\\api\\golden_api_doc.py -> C:\\Users\\hanna\\Desktop\\UNIVERSITE\\M1 polytechnique\\INF573_Image analysis and computer vision\\Project\\Env_Vision\\Lib\\site-packages\\tensorflow_examples\\lite\\model_maker\\core\\api\n",
      "  copying build\\lib\\tensorflow_examples\\lite\\model_maker\\core\\api\\include.py -> C:\\Users\\hanna\\Desktop\\UNIVERSITE\\M1 polytechnique\\INF573_Image analysis and computer vision\\Project\\Env_Vision\\Lib\\site-packages\\tensorflow_examples\\lite\\model_maker\\core\\api\n",
      "  copying build\\lib\\tensorflow_examples\\lite\\model_maker\\core\\api\\__init__.py -> C:\\Users\\hanna\\Desktop\\UNIVERSITE\\M1 polytechnique\\INF573_Image analysis and computer vision\\Project\\Env_Vision\\Lib\\site-packages\\tensorflow_examples\\lite\\model_maker\\core\\api\n",
      "  copying build\\lib\\tensorflow_examples\\lite\\model_maker\\core\\compat.py -> C:\\Users\\hanna\\Desktop\\UNIVERSITE\\M1 polytechnique\\INF573_Image analysis and computer vision\\Project\\Env_Vision\\Lib\\site-packages\\tensorflow_examples\\lite\\model_maker\\core\n",
      "  copying build\\lib\\tensorflow_examples\\lite\\model_maker\\core\\data_util\\audio_dataloader.py -> C:\\Users\\hanna\\Desktop\\UNIVERSITE\\M1 polytechnique\\INF573_Image analysis and computer vision\\Project\\Env_Vision\\Lib\\site-packages\\tensorflow_examples\\lite\\model_maker\\core\\data_util\n",
      "  copying build\\lib\\tensorflow_examples\\lite\\model_maker\\core\\data_util\\audio_dataloader_test.py -> C:\\Users\\hanna\\Desktop\\UNIVERSITE\\M1 polytechnique\\INF573_Image analysis and computer vision\\Project\\Env_Vision\\Lib\\site-packages\\tensorflow_examples\\lite\\model_maker\\core\\data_util\n",
      "  copying build\\lib\\tensorflow_examples\\lite\\model_maker\\core\\data_util\\dataloader.py -> C:\\Users\\hanna\\Desktop\\UNIVERSITE\\M1 polytechnique\\INF573_Image analysis and computer vision\\Project\\Env_Vision\\Lib\\site-packages\\tensorflow_examples\\lite\\model_maker\\core\\data_util\n",
      "  copying build\\lib\\tensorflow_examples\\lite\\model_maker\\core\\data_util\\dataloader_test.py -> C:\\Users\\hanna\\Desktop\\UNIVERSITE\\M1 polytechnique\\INF573_Image analysis and computer vision\\Project\\Env_Vision\\Lib\\site-packages\\tensorflow_examples\\lite\\model_maker\\core\\data_util\n",
      "  copying build\\lib\\tensorflow_examples\\lite\\model_maker\\core\\data_util\\data_util.py -> C:\\Users\\hanna\\Desktop\\UNIVERSITE\\M1 polytechnique\\INF573_Image analysis and computer vision\\Project\\Env_Vision\\Lib\\site-packages\\tensorflow_examples\\lite\\model_maker\\core\\data_util\n",
      "  copying build\\lib\\tensorflow_examples\\lite\\model_maker\\core\\data_util\\image_dataloader.py -> C:\\Users\\hanna\\Desktop\\UNIVERSITE\\M1 polytechnique\\INF573_Image analysis and computer vision\\Project\\Env_Vision\\Lib\\site-packages\\tensorflow_examples\\lite\\model_maker\\core\\data_util\n",
      "  copying build\\lib\\tensorflow_examples\\lite\\model_maker\\core\\data_util\\image_dataloader_test.py -> C:\\Users\\hanna\\Desktop\\UNIVERSITE\\M1 polytechnique\\INF573_Image analysis and computer vision\\Project\\Env_Vision\\Lib\\site-packages\\tensorflow_examples\\lite\\model_maker\\core\\data_util\n",
      "  copying build\\lib\\tensorflow_examples\\lite\\model_maker\\core\\data_util\\image_searcher_dataloader.py -> C:\\Users\\hanna\\Desktop\\UNIVERSITE\\M1 polytechnique\\INF573_Image analysis and computer vision\\Project\\Env_Vision\\Lib\\site-packages\\tensorflow_examples\\lite\\model_maker\\core\\data_util\n",
      "  copying build\\lib\\tensorflow_examples\\lite\\model_maker\\core\\data_util\\image_searcher_dataloader_test.py -> C:\\Users\\hanna\\Desktop\\UNIVERSITE\\M1 polytechnique\\INF573_Image analysis and computer vision\\Project\\Env_Vision\\Lib\\site-packages\\tensorflow_examples\\lite\\model_maker\\core\\data_util\n",
      "  copying build\\lib\\tensorflow_examples\\lite\\model_maker\\core\\data_util\\metadata_loader.py -> C:\\Users\\hanna\\Desktop\\UNIVERSITE\\M1 polytechnique\\INF573_Image analysis and computer vision\\Project\\Env_Vision\\Lib\\site-packages\\tensorflow_examples\\lite\\model_maker\\core\\data_util\n",
      "  copying build\\lib\\tensorflow_examples\\lite\\model_maker\\core\\data_util\\metadata_loader_test.py -> C:\\Users\\hanna\\Desktop\\UNIVERSITE\\M1 polytechnique\\INF573_Image analysis and computer vision\\Project\\Env_Vision\\Lib\\site-packages\\tensorflow_examples\\lite\\model_maker\\core\\data_util\n",
      "  copying build\\lib\\tensorflow_examples\\lite\\model_maker\\core\\data_util\\object_detector_dataloader.py -> C:\\Users\\hanna\\Desktop\\UNIVERSITE\\M1 polytechnique\\INF573_Image analysis and computer vision\\Project\\Env_Vision\\Lib\\site-packages\\tensorflow_examples\\lite\\model_maker\\core\\data_util\n",
      "  copying build\\lib\\tensorflow_examples\\lite\\model_maker\\core\\data_util\\object_detector_dataloader_test.py -> C:\\Users\\hanna\\Desktop\\UNIVERSITE\\M1 polytechnique\\INF573_Image analysis and computer vision\\Project\\Env_Vision\\Lib\\site-packages\\tensorflow_examples\\lite\\model_maker\\core\\data_util\n",
      "  copying build\\lib\\tensorflow_examples\\lite\\model_maker\\core\\data_util\\object_detector_dataloader_util.py -> C:\\Users\\hanna\\Desktop\\UNIVERSITE\\M1 polytechnique\\INF573_Image analysis and computer vision\\Project\\Env_Vision\\Lib\\site-packages\\tensorflow_examples\\lite\\model_maker\\core\\data_util\n",
      "  copying build\\lib\\tensorflow_examples\\lite\\model_maker\\core\\data_util\\object_detector_dataloader_util_test.py -> C:\\Users\\hanna\\Desktop\\UNIVERSITE\\M1 polytechnique\\INF573_Image analysis and computer vision\\Project\\Env_Vision\\Lib\\site-packages\\tensorflow_examples\\lite\\model_maker\\core\\data_util\n",
      "  copying build\\lib\\tensorflow_examples\\lite\\model_maker\\core\\data_util\\recommendation_config.py -> C:\\Users\\hanna\\Desktop\\UNIVERSITE\\M1 polytechnique\\INF573_Image analysis and computer vision\\Project\\Env_Vision\\Lib\\site-packages\\tensorflow_examples\\lite\\model_maker\\core\\data_util\n",
      "  copying build\\lib\\tensorflow_examples\\lite\\model_maker\\core\\data_util\\recommendation_dataloader.py -> C:\\Users\\hanna\\Desktop\\UNIVERSITE\\M1 polytechnique\\INF573_Image analysis and computer vision\\Project\\Env_Vision\\Lib\\site-packages\\tensorflow_examples\\lite\\model_maker\\core\\data_util\n",
      "  copying build\\lib\\tensorflow_examples\\lite\\model_maker\\core\\data_util\\recommendation_dataloader_test.py -> C:\\Users\\hanna\\Desktop\\UNIVERSITE\\M1 polytechnique\\INF573_Image analysis and computer vision\\Project\\Env_Vision\\Lib\\site-packages\\tensorflow_examples\\lite\\model_maker\\core\\data_util\n",
      "  copying build\\lib\\tensorflow_examples\\lite\\model_maker\\core\\data_util\\recommendation_testutil.py -> C:\\Users\\hanna\\Desktop\\UNIVERSITE\\M1 polytechnique\\INF573_Image analysis and computer vision\\Project\\Env_Vision\\Lib\\site-packages\\tensorflow_examples\\lite\\model_maker\\core\\data_util\n",
      "  copying build\\lib\\tensorflow_examples\\lite\\model_maker\\core\\data_util\\searcher_dataloader.py -> C:\\Users\\hanna\\Desktop\\UNIVERSITE\\M1 polytechnique\\INF573_Image analysis and computer vision\\Project\\Env_Vision\\Lib\\site-packages\\tensorflow_examples\\lite\\model_maker\\core\\data_util\n",
      "  copying build\\lib\\tensorflow_examples\\lite\\model_maker\\core\\data_util\\searcher_dataloader_test.py -> C:\\Users\\hanna\\Desktop\\UNIVERSITE\\M1 polytechnique\\INF573_Image analysis and computer vision\\Project\\Env_Vision\\Lib\\site-packages\\tensorflow_examples\\lite\\model_maker\\core\\data_util\n",
      "  copying build\\lib\\tensorflow_examples\\lite\\model_maker\\core\\data_util\\text_dataloader.py -> C:\\Users\\hanna\\Desktop\\UNIVERSITE\\M1 polytechnique\\INF573_Image analysis and computer vision\\Project\\Env_Vision\\Lib\\site-packages\\tensorflow_examples\\lite\\model_maker\\core\\data_util\n",
      "  copying build\\lib\\tensorflow_examples\\lite\\model_maker\\core\\data_util\\text_dataloader_test.py -> C:\\Users\\hanna\\Desktop\\UNIVERSITE\\M1 polytechnique\\INF573_Image analysis and computer vision\\Project\\Env_Vision\\Lib\\site-packages\\tensorflow_examples\\lite\\model_maker\\core\\data_util\n",
      "  copying build\\lib\\tensorflow_examples\\lite\\model_maker\\core\\data_util\\text_searcher_dataloader.py -> C:\\Users\\hanna\\Desktop\\UNIVERSITE\\M1 polytechnique\\INF573_Image analysis and computer vision\\Project\\Env_Vision\\Lib\\site-packages\\tensorflow_examples\\lite\\model_maker\\core\\data_util\n",
      "  copying build\\lib\\tensorflow_examples\\lite\\model_maker\\core\\data_util\\text_searcher_dataloader_test.py -> C:\\Users\\hanna\\Desktop\\UNIVERSITE\\M1 polytechnique\\INF573_Image analysis and computer vision\\Project\\Env_Vision\\Lib\\site-packages\\tensorflow_examples\\lite\\model_maker\\core\\data_util\n",
      "  copying build\\lib\\tensorflow_examples\\lite\\model_maker\\core\\data_util\\__init__.py -> C:\\Users\\hanna\\Desktop\\UNIVERSITE\\M1 polytechnique\\INF573_Image analysis and computer vision\\Project\\Env_Vision\\Lib\\site-packages\\tensorflow_examples\\lite\\model_maker\\core\\data_util\n",
      "  copying build\\lib\\tensorflow_examples\\lite\\model_maker\\core\\export_format.py -> C:\\Users\\hanna\\Desktop\\UNIVERSITE\\M1 polytechnique\\INF573_Image analysis and computer vision\\Project\\Env_Vision\\Lib\\site-packages\\tensorflow_examples\\lite\\model_maker\\core\n",
      "  copying build\\lib\\tensorflow_examples\\lite\\model_maker\\core\\file_util.py -> C:\\Users\\hanna\\Desktop\\UNIVERSITE\\M1 polytechnique\\INF573_Image analysis and computer vision\\Project\\Env_Vision\\Lib\\site-packages\\tensorflow_examples\\lite\\model_maker\\core\n",
      "  copying build\\lib\\tensorflow_examples\\lite\\model_maker\\core\\optimization\\warmup.py -> C:\\Users\\hanna\\Desktop\\UNIVERSITE\\M1 polytechnique\\INF573_Image analysis and computer vision\\Project\\Env_Vision\\Lib\\site-packages\\tensorflow_examples\\lite\\model_maker\\core\\optimization\n",
      "  copying build\\lib\\tensorflow_examples\\lite\\model_maker\\core\\optimization\\__init__.py -> C:\\Users\\hanna\\Desktop\\UNIVERSITE\\M1 polytechnique\\INF573_Image analysis and computer vision\\Project\\Env_Vision\\Lib\\site-packages\\tensorflow_examples\\lite\\model_maker\\core\\optimization\n",
      "  copying build\\lib\\tensorflow_examples\\lite\\model_maker\\core\\task\\audio_classifier.py -> C:\\Users\\hanna\\Desktop\\UNIVERSITE\\M1 polytechnique\\INF573_Image analysis and computer vision\\Project\\Env_Vision\\Lib\\site-packages\\tensorflow_examples\\lite\\model_maker\\core\\task\n",
      "  copying build\\lib\\tensorflow_examples\\lite\\model_maker\\core\\task\\audio_classifier_test.py -> C:\\Users\\hanna\\Desktop\\UNIVERSITE\\M1 polytechnique\\INF573_Image analysis and computer vision\\Project\\Env_Vision\\Lib\\site-packages\\tensorflow_examples\\lite\\model_maker\\core\\task\n",
      "  copying build\\lib\\tensorflow_examples\\lite\\model_maker\\core\\task\\classification_model.py -> C:\\Users\\hanna\\Desktop\\UNIVERSITE\\M1 polytechnique\\INF573_Image analysis and computer vision\\Project\\Env_Vision\\Lib\\site-packages\\tensorflow_examples\\lite\\model_maker\\core\\task\n",
      "  copying build\\lib\\tensorflow_examples\\lite\\model_maker\\core\\task\\classification_model_test.py -> C:\\Users\\hanna\\Desktop\\UNIVERSITE\\M1 polytechnique\\INF573_Image analysis and computer vision\\Project\\Env_Vision\\Lib\\site-packages\\tensorflow_examples\\lite\\model_maker\\core\\task\n",
      "  copying build\\lib\\tensorflow_examples\\lite\\model_maker\\core\\task\\configs.py -> C:\\Users\\hanna\\Desktop\\UNIVERSITE\\M1 polytechnique\\INF573_Image analysis and computer vision\\Project\\Env_Vision\\Lib\\site-packages\\tensorflow_examples\\lite\\model_maker\\core\\task\n",
      "  copying build\\lib\\tensorflow_examples\\lite\\model_maker\\core\\task\\custom_model.py -> C:\\Users\\hanna\\Desktop\\UNIVERSITE\\M1 polytechnique\\INF573_Image analysis and computer vision\\Project\\Env_Vision\\Lib\\site-packages\\tensorflow_examples\\lite\\model_maker\\core\\task\n",
      "  copying build\\lib\\tensorflow_examples\\lite\\model_maker\\core\\task\\custom_model_test.py -> C:\\Users\\hanna\\Desktop\\UNIVERSITE\\M1 polytechnique\\INF573_Image analysis and computer vision\\Project\\Env_Vision\\Lib\\site-packages\\tensorflow_examples\\lite\\model_maker\\core\\task\n",
      "  copying build\\lib\\tensorflow_examples\\lite\\model_maker\\core\\task\\hub_loader.py -> C:\\Users\\hanna\\Desktop\\UNIVERSITE\\M1 polytechnique\\INF573_Image analysis and computer vision\\Project\\Env_Vision\\Lib\\site-packages\\tensorflow_examples\\lite\\model_maker\\core\\task\n",
      "  copying build\\lib\\tensorflow_examples\\lite\\model_maker\\core\\task\\hub_loader_test.py -> C:\\Users\\hanna\\Desktop\\UNIVERSITE\\M1 polytechnique\\INF573_Image analysis and computer vision\\Project\\Env_Vision\\Lib\\site-packages\\tensorflow_examples\\lite\\model_maker\\core\\task\n",
      "  copying build\\lib\\tensorflow_examples\\lite\\model_maker\\core\\task\\image_classifier.py -> C:\\Users\\hanna\\Desktop\\UNIVERSITE\\M1 polytechnique\\INF573_Image analysis and computer vision\\Project\\Env_Vision\\Lib\\site-packages\\tensorflow_examples\\lite\\model_maker\\core\\task\n",
      "  copying build\\lib\\tensorflow_examples\\lite\\model_maker\\core\\task\\image_classifier_test.py -> C:\\Users\\hanna\\Desktop\\UNIVERSITE\\M1 polytechnique\\INF573_Image analysis and computer vision\\Project\\Env_Vision\\Lib\\site-packages\\tensorflow_examples\\lite\\model_maker\\core\\task\n",
      "  copying build\\lib\\tensorflow_examples\\lite\\model_maker\\core\\task\\image_classifier_v1_test.py -> C:\\Users\\hanna\\Desktop\\UNIVERSITE\\M1 polytechnique\\INF573_Image analysis and computer vision\\Project\\Env_Vision\\Lib\\site-packages\\tensorflow_examples\\lite\\model_maker\\core\\task\n",
      "  copying build\\lib\\tensorflow_examples\\lite\\model_maker\\core\\task\\image_preprocessing.py -> C:\\Users\\hanna\\Desktop\\UNIVERSITE\\M1 polytechnique\\INF573_Image analysis and computer vision\\Project\\Env_Vision\\Lib\\site-packages\\tensorflow_examples\\lite\\model_maker\\core\\task\n",
      "  copying build\\lib\\tensorflow_examples\\lite\\model_maker\\core\\task\\image_preprocessing_test.py -> C:\\Users\\hanna\\Desktop\\UNIVERSITE\\M1 polytechnique\\INF573_Image analysis and computer vision\\Project\\Env_Vision\\Lib\\site-packages\\tensorflow_examples\\lite\\model_maker\\core\\task\n",
      "  copying build\\lib\\tensorflow_examples\\lite\\model_maker\\core\\task\\metadata_writers\\bert\\metadata_writer_for_bert.py -> C:\\Users\\hanna\\Desktop\\UNIVERSITE\\M1 polytechnique\\INF573_Image analysis and computer vision\\Project\\Env_Vision\\Lib\\site-packages\\tensorflow_examples\\lite\\model_maker\\core\\task\\metadata_writers\\bert\n",
      "  copying build\\lib\\tensorflow_examples\\lite\\model_maker\\core\\task\\metadata_writers\\bert\\question_answerer\\metadata_writer_for_bert_question_answerer.py -> C:\\Users\\hanna\\Desktop\\UNIVERSITE\\M1 polytechnique\\INF573_Image analysis and computer vision\\Project\\Env_Vision\\Lib\\site-packages\\tensorflow_examples\\lite\\model_maker\\core\\task\\metadata_writers\\bert\\question_answerer\n",
      "  error: could not create 'C:\\Users\\hanna\\Desktop\\UNIVERSITE\\M1 polytechnique\\INF573_Image analysis and computer vision\\Project\\Env_Vision\\Lib\\site-packages\\tensorflow_examples\\lite\\model_maker\\core\\task\\metadata_writers\\bert\\question_answerer\\metadata_writer_for_bert_question_answerer.py': No such file or directory\n",
      "  [end of output]\n",
      "  \n",
      "  note: This error originates from a subprocess, and is likely not a problem with pip.\n",
      "error: legacy-install-failure\n",
      "\n",
      "Encountered error while trying to install package.\n",
      "\n",
      "tensorflow-examples\n",
      "\n",
      "note: This is an issue with the package mentioned above, not pip.\n",
      "hint: See above for output from the failure.\n",
      "\n",
      "[notice] A new release of pip available: 22.2.2 -> 22.3.1\n",
      "[notice] To update, run: python.exe -m pip install --upgrade pip\n"
     ]
    },
    {
     "name": "stdout",
     "output_type": "stream",
     "text": [
      "\n",
      "  Cloning https://github.com/tensorflow/examples.git to c:\\users\\hanna\\appdata\\local\\temp\\pip-req-build-kyd9cbyg\n",
      "  Resolved https://github.com/tensorflow/examples.git to commit 2741b9ea31622676451e2ce1414d233de45f915f\n",
      "  Preparing metadata (setup.py): started\n",
      "  Preparing metadata (setup.py): finished with status 'done'\n",
      "Requirement already satisfied: absl-py in c:\\users\\hanna\\desktop\\universite\\m1 polytechnique\\inf573_image analysis and computer vision\\project\\env_vision\\lib\\site-packages (from tensorflow-examples===2741b9ea31622676451e2ce1414d233de45f915f-) (1.3.0)\n",
      "Requirement already satisfied: six in c:\\users\\hanna\\desktop\\universite\\m1 polytechnique\\inf573_image analysis and computer vision\\project\\env_vision\\lib\\site-packages (from tensorflow-examples===2741b9ea31622676451e2ce1414d233de45f915f-) (1.16.0)\n",
      "Building wheels for collected packages: tensorflow-examples\n",
      "  Building wheel for tensorflow-examples (setup.py): started\n",
      "  Building wheel for tensorflow-examples (setup.py): finished with status 'done'\n",
      "  Created wheel for tensorflow-examples: filename=tensorflow_examples-2741b9ea31622676451e2ce1414d233de45f915f_-py3-none-any.whl size=301887 sha256=25d2ee935bb2c6309b97f3c88a45be5c35c2183f4072870b5002d985d9a72ac4\n",
      "  Stored in directory: C:\\Users\\hanna\\AppData\\Local\\Temp\\pip-ephem-wheel-cache-5ji4nq_c\\wheels\\72\\5f\\d0\\7fe769eaa229bf20101d11a357eb23c83c481bee2d7f710599\n",
      "Failed to build tensorflow-examples\n",
      "Installing collected packages: tensorflow-examples\n",
      "  Running setup.py install for tensorflow-examples: started\n",
      "  Running setup.py install for tensorflow-examples: finished with status 'error'\n"
     ]
    }
   ],
   "source": [
    "!pip install git+https://github.com/tensorflow/examples.git"
   ]
  },
  {
   "cell_type": "code",
   "execution_count": 3,
   "metadata": {},
   "outputs": [
    {
     "name": "stdout",
     "output_type": "stream",
     "text": [
      "Collecting tensorflowNote: you may need to restart the kernel to use updated packages.\n",
      "\n",
      "  Using cached tensorflow-2.11.0-cp310-cp310-win_amd64.whl (1.9 kB)\n",
      "Collecting tensorflow-intel==2.11.0\n",
      "  Using cached tensorflow_intel-2.11.0-cp310-cp310-win_amd64.whl (266.3 MB)\n",
      "Requirement already satisfied: keras<2.12,>=2.11.0 in c:\\users\\hanna\\desktop\\universite\\m1 polytechnique\\inf573_image analysis and computer vision\\project\\env_vision\\lib\\site-packages (from tensorflow-intel==2.11.0->tensorflow) (2.11.0)\n",
      "Requirement already satisfied: h5py>=2.9.0 in c:\\users\\hanna\\desktop\\universite\\m1 polytechnique\\inf573_image analysis and computer vision\\project\\env_vision\\lib\\site-packages (from tensorflow-intel==2.11.0->tensorflow) (3.7.0)\n",
      "Requirement already satisfied: flatbuffers>=2.0 in c:\\users\\hanna\\desktop\\universite\\m1 polytechnique\\inf573_image analysis and computer vision\\project\\env_vision\\lib\\site-packages (from tensorflow-intel==2.11.0->tensorflow) (22.11.23)\n",
      "Requirement already satisfied: astunparse>=1.6.0 in c:\\users\\hanna\\desktop\\universite\\m1 polytechnique\\inf573_image analysis and computer vision\\project\\env_vision\\lib\\site-packages (from tensorflow-intel==2.11.0->tensorflow) (1.6.3)\n",
      "Requirement already satisfied: typing-extensions>=3.6.6 in c:\\users\\hanna\\desktop\\universite\\m1 polytechnique\\inf573_image analysis and computer vision\\project\\env_vision\\lib\\site-packages (from tensorflow-intel==2.11.0->tensorflow) (4.4.0)\n",
      "Requirement already satisfied: numpy>=1.20 in c:\\users\\hanna\\desktop\\universite\\m1 polytechnique\\inf573_image analysis and computer vision\\project\\env_vision\\lib\\site-packages (from tensorflow-intel==2.11.0->tensorflow) (1.23.5)\n",
      "Requirement already satisfied: tensorboard<2.12,>=2.11 in c:\\users\\hanna\\desktop\\universite\\m1 polytechnique\\inf573_image analysis and computer vision\\project\\env_vision\\lib\\site-packages (from tensorflow-intel==2.11.0->tensorflow) (2.11.0)\n",
      "Requirement already satisfied: wrapt>=1.11.0 in c:\\users\\hanna\\desktop\\universite\\m1 polytechnique\\inf573_image analysis and computer vision\\project\\env_vision\\lib\\site-packages (from tensorflow-intel==2.11.0->tensorflow) (1.14.1)\n",
      "Requirement already satisfied: opt-einsum>=2.3.2 in c:\\users\\hanna\\desktop\\universite\\m1 polytechnique\\inf573_image analysis and computer vision\\project\\env_vision\\lib\\site-packages (from tensorflow-intel==2.11.0->tensorflow) (3.3.0)\n",
      "Requirement already satisfied: libclang>=13.0.0 in c:\\users\\hanna\\desktop\\universite\\m1 polytechnique\\inf573_image analysis and computer vision\\project\\env_vision\\lib\\site-packages (from tensorflow-intel==2.11.0->tensorflow) (14.0.6)\n",
      "Requirement already satisfied: protobuf<3.20,>=3.9.2 in c:\\users\\hanna\\desktop\\universite\\m1 polytechnique\\inf573_image analysis and computer vision\\project\\env_vision\\lib\\site-packages (from tensorflow-intel==2.11.0->tensorflow) (3.19.6)\n",
      "Requirement already satisfied: absl-py>=1.0.0 in c:\\users\\hanna\\desktop\\universite\\m1 polytechnique\\inf573_image analysis and computer vision\\project\\env_vision\\lib\\site-packages (from tensorflow-intel==2.11.0->tensorflow) (1.3.0)\n",
      "Requirement already satisfied: six>=1.12.0 in c:\\users\\hanna\\desktop\\universite\\m1 polytechnique\\inf573_image analysis and computer vision\\project\\env_vision\\lib\\site-packages (from tensorflow-intel==2.11.0->tensorflow) (1.16.0)\n",
      "Requirement already satisfied: gast<=0.4.0,>=0.2.1 in c:\\users\\hanna\\desktop\\universite\\m1 polytechnique\\inf573_image analysis and computer vision\\project\\env_vision\\lib\\site-packages (from tensorflow-intel==2.11.0->tensorflow) (0.4.0)\n",
      "Requirement already satisfied: termcolor>=1.1.0 in c:\\users\\hanna\\desktop\\universite\\m1 polytechnique\\inf573_image analysis and computer vision\\project\\env_vision\\lib\\site-packages (from tensorflow-intel==2.11.0->tensorflow) (2.1.1)\n",
      "Requirement already satisfied: tensorflow-io-gcs-filesystem>=0.23.1 in c:\\users\\hanna\\desktop\\universite\\m1 polytechnique\\inf573_image analysis and computer vision\\project\\env_vision\\lib\\site-packages (from tensorflow-intel==2.11.0->tensorflow) (0.28.0)\n",
      "Requirement already satisfied: tensorflow-estimator<2.12,>=2.11.0 in c:\\users\\hanna\\desktop\\universite\\m1 polytechnique\\inf573_image analysis and computer vision\\project\\env_vision\\lib\\site-packages (from tensorflow-intel==2.11.0->tensorflow) (2.11.0)\n",
      "Requirement already satisfied: grpcio<2.0,>=1.24.3 in c:\\users\\hanna\\desktop\\universite\\m1 polytechnique\\inf573_image analysis and computer vision\\project\\env_vision\\lib\\site-packages (from tensorflow-intel==2.11.0->tensorflow) (1.51.1)\n",
      "Requirement already satisfied: packaging in c:\\users\\hanna\\desktop\\universite\\m1 polytechnique\\inf573_image analysis and computer vision\\project\\env_vision\\lib\\site-packages (from tensorflow-intel==2.11.0->tensorflow) (21.3)\n",
      "Requirement already satisfied: google-pasta>=0.1.1 in c:\\users\\hanna\\desktop\\universite\\m1 polytechnique\\inf573_image analysis and computer vision\\project\\env_vision\\lib\\site-packages (from tensorflow-intel==2.11.0->tensorflow) (0.2.0)\n",
      "Requirement already satisfied: setuptools in c:\\users\\hanna\\desktop\\universite\\m1 polytechnique\\inf573_image analysis and computer vision\\project\\env_vision\\lib\\site-packages (from tensorflow-intel==2.11.0->tensorflow) (63.2.0)\n",
      "Requirement already satisfied: wheel<1.0,>=0.23.0 in c:\\users\\hanna\\desktop\\universite\\m1 polytechnique\\inf573_image analysis and computer vision\\project\\env_vision\\lib\\site-packages (from astunparse>=1.6.0->tensorflow-intel==2.11.0->tensorflow) (0.38.4)\n",
      "Requirement already satisfied: google-auth<3,>=1.6.3 in c:\\users\\hanna\\desktop\\universite\\m1 polytechnique\\inf573_image analysis and computer vision\\project\\env_vision\\lib\\site-packages (from tensorboard<2.12,>=2.11->tensorflow-intel==2.11.0->tensorflow) (2.15.0)\n",
      "Requirement already satisfied: tensorboard-data-server<0.7.0,>=0.6.0 in c:\\users\\hanna\\desktop\\universite\\m1 polytechnique\\inf573_image analysis and computer vision\\project\\env_vision\\lib\\site-packages (from tensorboard<2.12,>=2.11->tensorflow-intel==2.11.0->tensorflow) (0.6.1)\n",
      "Requirement already satisfied: google-auth-oauthlib<0.5,>=0.4.1 in c:\\users\\hanna\\desktop\\universite\\m1 polytechnique\\inf573_image analysis and computer vision\\project\\env_vision\\lib\\site-packages (from tensorboard<2.12,>=2.11->tensorflow-intel==2.11.0->tensorflow) (0.4.6)\n",
      "Requirement already satisfied: tensorboard-plugin-wit>=1.6.0 in c:\\users\\hanna\\desktop\\universite\\m1 polytechnique\\inf573_image analysis and computer vision\\project\\env_vision\\lib\\site-packages (from tensorboard<2.12,>=2.11->tensorflow-intel==2.11.0->tensorflow) (1.8.1)\n",
      "Requirement already satisfied: werkzeug>=1.0.1 in c:\\users\\hanna\\desktop\\universite\\m1 polytechnique\\inf573_image analysis and computer vision\\project\\env_vision\\lib\\site-packages (from tensorboard<2.12,>=2.11->tensorflow-intel==2.11.0->tensorflow) (2.2.2)\n",
      "Requirement already satisfied: markdown>=2.6.8 in c:\\users\\hanna\\desktop\\universite\\m1 polytechnique\\inf573_image analysis and computer vision\\project\\env_vision\\lib\\site-packages (from tensorboard<2.12,>=2.11->tensorflow-intel==2.11.0->tensorflow) (3.4.1)\n",
      "Requirement already satisfied: requests<3,>=2.21.0 in c:\\users\\hanna\\desktop\\universite\\m1 polytechnique\\inf573_image analysis and computer vision\\project\\env_vision\\lib\\site-packages (from tensorboard<2.12,>=2.11->tensorflow-intel==2.11.0->tensorflow) (2.28.1)\n",
      "Requirement already satisfied: pyparsing!=3.0.5,>=2.0.2 in c:\\users\\hanna\\desktop\\universite\\m1 polytechnique\\inf573_image analysis and computer vision\\project\\env_vision\\lib\\site-packages (from packaging->tensorflow-intel==2.11.0->tensorflow) (3.0.9)\n",
      "Requirement already satisfied: pyasn1-modules>=0.2.1 in c:\\users\\hanna\\desktop\\universite\\m1 polytechnique\\inf573_image analysis and computer vision\\project\\env_vision\\lib\\site-packages (from google-auth<3,>=1.6.3->tensorboard<2.12,>=2.11->tensorflow-intel==2.11.0->tensorflow) (0.2.8)\n",
      "Requirement already satisfied: cachetools<6.0,>=2.0.0 in c:\\users\\hanna\\desktop\\universite\\m1 polytechnique\\inf573_image analysis and computer vision\\project\\env_vision\\lib\\site-packages (from google-auth<3,>=1.6.3->tensorboard<2.12,>=2.11->tensorflow-intel==2.11.0->tensorflow) (5.2.0)\n",
      "Requirement already satisfied: rsa<5,>=3.1.4 in c:\\users\\hanna\\desktop\\universite\\m1 polytechnique\\inf573_image analysis and computer vision\\project\\env_vision\\lib\\site-packages (from google-auth<3,>=1.6.3->tensorboard<2.12,>=2.11->tensorflow-intel==2.11.0->tensorflow) (4.9)\n",
      "Requirement already satisfied: requests-oauthlib>=0.7.0 in c:\\users\\hanna\\desktop\\universite\\m1 polytechnique\\inf573_image analysis and computer vision\\project\\env_vision\\lib\\site-packages (from google-auth-oauthlib<0.5,>=0.4.1->tensorboard<2.12,>=2.11->tensorflow-intel==2.11.0->tensorflow) (1.3.1)\n",
      "Requirement already satisfied: charset-normalizer<3,>=2 in c:\\users\\hanna\\desktop\\universite\\m1 polytechnique\\inf573_image analysis and computer vision\\project\\env_vision\\lib\\site-packages (from requests<3,>=2.21.0->tensorboard<2.12,>=2.11->tensorflow-intel==2.11.0->tensorflow) (2.1.1)\n",
      "Requirement already satisfied: urllib3<1.27,>=1.21.1 in c:\\users\\hanna\\desktop\\universite\\m1 polytechnique\\inf573_image analysis and computer vision\\project\\env_vision\\lib\\site-packages (from requests<3,>=2.21.0->tensorboard<2.12,>=2.11->tensorflow-intel==2.11.0->tensorflow) (1.26.13)\n",
      "Requirement already satisfied: certifi>=2017.4.17 in c:\\users\\hanna\\desktop\\universite\\m1 polytechnique\\inf573_image analysis and computer vision\\project\\env_vision\\lib\\site-packages (from requests<3,>=2.21.0->tensorboard<2.12,>=2.11->tensorflow-intel==2.11.0->tensorflow) (2022.9.24)\n",
      "Requirement already satisfied: idna<4,>=2.5 in c:\\users\\hanna\\desktop\\universite\\m1 polytechnique\\inf573_image analysis and computer vision\\project\\env_vision\\lib\\site-packages (from requests<3,>=2.21.0->tensorboard<2.12,>=2.11->tensorflow-intel==2.11.0->tensorflow) (3.4)\n",
      "Requirement already satisfied: MarkupSafe>=2.1.1 in c:\\users\\hanna\\desktop\\universite\\m1 polytechnique\\inf573_image analysis and computer vision\\project\\env_vision\\lib\\site-packages (from werkzeug>=1.0.1->tensorboard<2.12,>=2.11->tensorflow-intel==2.11.0->tensorflow) (2.1.1)\n",
      "Requirement already satisfied: pyasn1<0.5.0,>=0.4.6 in c:\\users\\hanna\\desktop\\universite\\m1 polytechnique\\inf573_image analysis and computer vision\\project\\env_vision\\lib\\site-packages (from pyasn1-modules>=0.2.1->google-auth<3,>=1.6.3->tensorboard<2.12,>=2.11->tensorflow-intel==2.11.0->tensorflow) (0.4.8)\n",
      "Requirement already satisfied: oauthlib>=3.0.0 in c:\\users\\hanna\\desktop\\universite\\m1 polytechnique\\inf573_image analysis and computer vision\\project\\env_vision\\lib\\site-packages (from requests-oauthlib>=0.7.0->google-auth-oauthlib<0.5,>=0.4.1->tensorboard<2.12,>=2.11->tensorflow-intel==2.11.0->tensorflow) (3.2.2)\n",
      "Installing collected packages: tensorflow-intel, tensorflow\n"
     ]
    },
    {
     "name": "stderr",
     "output_type": "stream",
     "text": [
      "ERROR: Could not install packages due to an OSError: [Errno 2] No such file or directory: 'C:\\\\Users\\\\hanna\\\\Desktop\\\\UNIVERSITE\\\\M1 polytechnique\\\\INF573_Image analysis and computer vision\\\\Project\\\\Env_Vision\\\\Lib\\\\site-packages\\\\tensorflow\\\\include\\\\external\\\\com_github_grpc_grpc\\\\src\\\\core\\\\ext\\\\filters\\\\client_channel\\\\lb_policy\\\\grpclb\\\\client_load_reporting_filter.h'\n",
      "HINT: This error might have occurred since this system does not have Windows Long Path support enabled. You can find information on how to enable this at https://pip.pypa.io/warnings/enable-long-paths\n",
      "\n",
      "\n",
      "[notice] A new release of pip available: 22.2.2 -> 22.3.1\n",
      "[notice] To update, run: python.exe -m pip install --upgrade pip\n"
     ]
    }
   ],
   "source": [
    "pip install tensorflow"
   ]
  },
  {
   "cell_type": "code",
   "execution_count": 4,
   "metadata": {
    "execution": {
     "iopub.execute_input": "2022-08-03T01:21:28.176858Z",
     "iopub.status.busy": "2022-08-03T01:21:28.176350Z",
     "iopub.status.idle": "2022-08-03T01:21:30.070656Z",
     "shell.execute_reply": "2022-08-03T01:21:30.069899Z"
    },
    "id": "lhSsUx9Nyb3t"
   },
   "outputs": [
    {
     "ename": "ModuleNotFoundError",
     "evalue": "No module named 'tensorflow.python'",
     "output_type": "error",
     "traceback": [
      "\u001b[1;31m---------------------------------------------------------------------------\u001b[0m",
      "\u001b[1;31mModuleNotFoundError\u001b[0m                       Traceback (most recent call last)",
      "Cell \u001b[1;32mIn[4], line 1\u001b[0m\n\u001b[1;32m----> 1\u001b[0m \u001b[38;5;28;01mimport\u001b[39;00m \u001b[38;5;21;01mtensorflow\u001b[39;00m \u001b[38;5;28;01mas\u001b[39;00m \u001b[38;5;21;01mtf\u001b[39;00m\n",
      "File \u001b[1;32m~\\Desktop\\UNIVERSITE\\M1 polytechnique\\INF573_Image analysis and computer vision\\Project\\Env_Vision\\lib\\site-packages\\tensorflow\\__init__.py:37\u001b[0m\n\u001b[0;32m     34\u001b[0m \u001b[38;5;28;01mimport\u001b[39;00m \u001b[38;5;21;01msys\u001b[39;00m \u001b[38;5;28;01mas\u001b[39;00m \u001b[38;5;21;01m_sys\u001b[39;00m\n\u001b[0;32m     35\u001b[0m \u001b[38;5;28;01mimport\u001b[39;00m \u001b[38;5;21;01mtyping\u001b[39;00m \u001b[38;5;28;01mas\u001b[39;00m \u001b[38;5;21;01m_typing\u001b[39;00m\n\u001b[1;32m---> 37\u001b[0m \u001b[38;5;28;01mfrom\u001b[39;00m \u001b[38;5;21;01mtensorflow\u001b[39;00m\u001b[38;5;21;01m.\u001b[39;00m\u001b[38;5;21;01mpython\u001b[39;00m\u001b[38;5;21;01m.\u001b[39;00m\u001b[38;5;21;01mtools\u001b[39;00m \u001b[38;5;28;01mimport\u001b[39;00m module_util \u001b[38;5;28;01mas\u001b[39;00m _module_util\n\u001b[0;32m     38\u001b[0m \u001b[38;5;28;01mfrom\u001b[39;00m \u001b[38;5;21;01mtensorflow\u001b[39;00m\u001b[38;5;21;01m.\u001b[39;00m\u001b[38;5;21;01mpython\u001b[39;00m\u001b[38;5;21;01m.\u001b[39;00m\u001b[38;5;21;01mutil\u001b[39;00m\u001b[38;5;21;01m.\u001b[39;00m\u001b[38;5;21;01mlazy_loader\u001b[39;00m \u001b[38;5;28;01mimport\u001b[39;00m LazyLoader \u001b[38;5;28;01mas\u001b[39;00m _LazyLoader\n\u001b[0;32m     40\u001b[0m \u001b[38;5;66;03m# Make sure code inside the TensorFlow codebase can use tf2.enabled() at import.\u001b[39;00m\n",
      "\u001b[1;31mModuleNotFoundError\u001b[0m: No module named 'tensorflow.python'"
     ]
    }
   ],
   "source": [
    "import tensorflow as tf"
   ]
  },
  {
   "cell_type": "code",
   "execution_count": null,
   "metadata": {
    "execution": {
     "iopub.execute_input": "2022-08-03T01:21:30.074957Z",
     "iopub.status.busy": "2022-08-03T01:21:30.074190Z",
     "iopub.status.idle": "2022-08-03T01:21:31.121963Z",
     "shell.execute_reply": "2022-08-03T01:21:31.120943Z"
    },
    "id": "YfIk2es3hJEd"
   },
   "outputs": [],
   "source": [
    "import tensorflow_datasets as tfds\n",
    "from tensorflow_examples.models.pix2pix import pix2pix\n",
    "\n",
    "import os\n",
    "import time\n",
    "import matplotlib.pyplot as plt\n",
    "from IPython.display import clear_output\n",
    "\n",
    "AUTOTUNE = tf.data.AUTOTUNE"
   ]
  },
  {
   "cell_type": "markdown",
   "metadata": {
    "id": "iYn4MdZnKCey"
   },
   "source": [
    "## Input Pipeline\n",
    "\n",
    "This tutorial trains a model to translate from images of horses, to images of zebras. You can find this dataset and similar ones [here](https://www.tensorflow.org/datasets/catalog/cycle_gan). \n",
    "\n",
    "As mentioned in the [paper](https://arxiv.org/abs/1703.10593), apply random jittering and mirroring to the training dataset. These are some of the image augmentation techniques that avoids overfitting.\n",
    "\n",
    "This is similar to what was done in [pix2pix](https://www.tensorflow.org/tutorials/generative/pix2pix#load_the_dataset)\n",
    "\n",
    "* In random jittering, the image is resized to `286 x 286` and then randomly cropped to `256 x 256`.\n",
    "* In random mirroring, the image is randomly flipped horizontally i.e. left to right."
   ]
  },
  {
   "cell_type": "code",
   "execution_count": null,
   "metadata": {
    "execution": {
     "iopub.execute_input": "2022-08-03T01:21:31.126114Z",
     "iopub.status.busy": "2022-08-03T01:21:31.125557Z",
     "iopub.status.idle": "2022-08-03T01:21:35.129575Z",
     "shell.execute_reply": "2022-08-03T01:21:35.128881Z"
    },
    "id": "iuGVPOo7Cce0"
   },
   "outputs": [],
   "source": [
    "dataset, metadata = tfds.load('cycle_gan/horse2zebra',\n",
    "                              with_info=True, as_supervised=True)\n",
    "\n",
    "train_horses, train_zebras = dataset['trainA'], dataset['trainB']\n",
    "test_horses, test_zebras = dataset['testA'], dataset['testB']"
   ]
  },
  {
   "cell_type": "code",
   "execution_count": null,
   "metadata": {
    "execution": {
     "iopub.execute_input": "2022-08-03T01:21:35.133662Z",
     "iopub.status.busy": "2022-08-03T01:21:35.132989Z",
     "iopub.status.idle": "2022-08-03T01:21:35.136426Z",
     "shell.execute_reply": "2022-08-03T01:21:35.135818Z"
    },
    "id": "2CbTEt448b4R"
   },
   "outputs": [],
   "source": [
    "BUFFER_SIZE = 1000\n",
    "BATCH_SIZE = 1\n",
    "IMG_WIDTH = 256\n",
    "IMG_HEIGHT = 256"
   ]
  },
  {
   "cell_type": "code",
   "execution_count": null,
   "metadata": {
    "execution": {
     "iopub.execute_input": "2022-08-03T01:21:35.139553Z",
     "iopub.status.busy": "2022-08-03T01:21:35.139044Z",
     "iopub.status.idle": "2022-08-03T01:21:35.142427Z",
     "shell.execute_reply": "2022-08-03T01:21:35.141885Z"
    },
    "id": "Yn3IwqhiIszt"
   },
   "outputs": [],
   "source": [
    "def random_crop(image):\n",
    "  cropped_image = tf.image.random_crop(\n",
    "      image, size=[IMG_HEIGHT, IMG_WIDTH, 3])\n",
    "\n",
    "  return cropped_image"
   ]
  },
  {
   "cell_type": "code",
   "execution_count": null,
   "metadata": {
    "execution": {
     "iopub.execute_input": "2022-08-03T01:21:35.145216Z",
     "iopub.status.busy": "2022-08-03T01:21:35.144763Z",
     "iopub.status.idle": "2022-08-03T01:21:35.148110Z",
     "shell.execute_reply": "2022-08-03T01:21:35.147497Z"
    },
    "id": "muhR2cgbLKWW"
   },
   "outputs": [],
   "source": [
    "# normalizing the images to [-1, 1]\n",
    "def normalize(image):\n",
    "  image = tf.cast(image, tf.float32)\n",
    "  image = (image / 127.5) - 1\n",
    "  return image"
   ]
  },
  {
   "cell_type": "code",
   "execution_count": null,
   "metadata": {
    "execution": {
     "iopub.execute_input": "2022-08-03T01:21:35.151075Z",
     "iopub.status.busy": "2022-08-03T01:21:35.150626Z",
     "iopub.status.idle": "2022-08-03T01:21:35.154329Z",
     "shell.execute_reply": "2022-08-03T01:21:35.153737Z"
    },
    "id": "fVQOjcPVLrUc"
   },
   "outputs": [],
   "source": [
    "def random_jitter(image):\n",
    "  # resizing to 286 x 286 x 3\n",
    "  image = tf.image.resize(image, [286, 286],\n",
    "                          method=tf.image.ResizeMethod.NEAREST_NEIGHBOR)\n",
    "\n",
    "  # randomly cropping to 256 x 256 x 3\n",
    "  image = random_crop(image)\n",
    "\n",
    "  # random mirroring\n",
    "  image = tf.image.random_flip_left_right(image)\n",
    "\n",
    "  return image"
   ]
  },
  {
   "cell_type": "code",
   "execution_count": null,
   "metadata": {
    "execution": {
     "iopub.execute_input": "2022-08-03T01:21:35.157291Z",
     "iopub.status.busy": "2022-08-03T01:21:35.156857Z",
     "iopub.status.idle": "2022-08-03T01:21:35.159873Z",
     "shell.execute_reply": "2022-08-03T01:21:35.159339Z"
    },
    "id": "tyaP4hLJ8b4W"
   },
   "outputs": [],
   "source": [
    "def preprocess_image_train(image, label):\n",
    "  image = random_jitter(image)\n",
    "  image = normalize(image)\n",
    "  return image"
   ]
  },
  {
   "cell_type": "code",
   "execution_count": null,
   "metadata": {
    "execution": {
     "iopub.execute_input": "2022-08-03T01:21:35.162805Z",
     "iopub.status.busy": "2022-08-03T01:21:35.162342Z",
     "iopub.status.idle": "2022-08-03T01:21:35.165396Z",
     "shell.execute_reply": "2022-08-03T01:21:35.164826Z"
    },
    "id": "VB3Z6D_zKSru"
   },
   "outputs": [],
   "source": [
    "def preprocess_image_test(image, label):\n",
    "  image = normalize(image)\n",
    "  return image"
   ]
  },
  {
   "cell_type": "code",
   "execution_count": null,
   "metadata": {
    "execution": {
     "iopub.execute_input": "2022-08-03T01:21:35.168292Z",
     "iopub.status.busy": "2022-08-03T01:21:35.167861Z",
     "iopub.status.idle": "2022-08-03T01:21:35.361718Z",
     "shell.execute_reply": "2022-08-03T01:21:35.361013Z"
    },
    "id": "RsajGXxd5JkZ"
   },
   "outputs": [],
   "source": [
    "train_horses = train_horses.cache().map(\n",
    "    preprocess_image_train, num_parallel_calls=AUTOTUNE).shuffle(\n",
    "    BUFFER_SIZE).batch(BATCH_SIZE)\n",
    "\n",
    "train_zebras = train_zebras.cache().map(\n",
    "    preprocess_image_train, num_parallel_calls=AUTOTUNE).shuffle(\n",
    "    BUFFER_SIZE).batch(BATCH_SIZE)\n",
    "\n",
    "test_horses = test_horses.map(\n",
    "    preprocess_image_test, num_parallel_calls=AUTOTUNE).cache().shuffle(\n",
    "    BUFFER_SIZE).batch(BATCH_SIZE)\n",
    "\n",
    "test_zebras = test_zebras.map(\n",
    "    preprocess_image_test, num_parallel_calls=AUTOTUNE).cache().shuffle(\n",
    "    BUFFER_SIZE).batch(BATCH_SIZE)"
   ]
  },
  {
   "cell_type": "code",
   "execution_count": null,
   "metadata": {
    "execution": {
     "iopub.execute_input": "2022-08-03T01:21:35.365208Z",
     "iopub.status.busy": "2022-08-03T01:21:35.364946Z",
     "iopub.status.idle": "2022-08-03T01:21:37.720314Z",
     "shell.execute_reply": "2022-08-03T01:21:37.719364Z"
    },
    "id": "e3MhJ3zVLPan"
   },
   "outputs": [],
   "source": [
    "sample_horse = next(iter(train_horses))\n",
    "sample_zebra = next(iter(train_zebras))"
   ]
  },
  {
   "cell_type": "code",
   "execution_count": null,
   "metadata": {
    "execution": {
     "iopub.execute_input": "2022-08-03T01:21:37.724024Z",
     "iopub.status.busy": "2022-08-03T01:21:37.723430Z",
     "iopub.status.idle": "2022-08-03T01:21:37.998066Z",
     "shell.execute_reply": "2022-08-03T01:21:37.997386Z"
    },
    "id": "4pOYjMk_KfIB"
   },
   "outputs": [],
   "source": [
    "plt.subplot(121)\n",
    "plt.title('Horse')\n",
    "plt.imshow(sample_horse[0] * 0.5 + 0.5)\n",
    "\n",
    "plt.subplot(122)\n",
    "plt.title('Horse with random jitter')\n",
    "plt.imshow(random_jitter(sample_horse[0]) * 0.5 + 0.5)"
   ]
  },
  {
   "cell_type": "code",
   "execution_count": null,
   "metadata": {
    "execution": {
     "iopub.execute_input": "2022-08-03T01:21:38.002182Z",
     "iopub.status.busy": "2022-08-03T01:21:38.001520Z",
     "iopub.status.idle": "2022-08-03T01:21:38.186565Z",
     "shell.execute_reply": "2022-08-03T01:21:38.185914Z"
    },
    "id": "0KJyB9ENLb2y"
   },
   "outputs": [],
   "source": [
    "plt.subplot(121)\n",
    "plt.title('Zebra')\n",
    "plt.imshow(sample_zebra[0] * 0.5 + 0.5)\n",
    "\n",
    "plt.subplot(122)\n",
    "plt.title('Zebra with random jitter')\n",
    "plt.imshow(random_jitter(sample_zebra[0]) * 0.5 + 0.5)"
   ]
  },
  {
   "cell_type": "markdown",
   "metadata": {
    "id": "hvX8sKsfMaio"
   },
   "source": [
    "## Import and reuse the Pix2Pix models"
   ]
  },
  {
   "cell_type": "markdown",
   "metadata": {
    "id": "cGrL73uCd-_M"
   },
   "source": [
    "Import the generator and the discriminator used in [Pix2Pix](https://github.com/tensorflow/examples/blob/master/tensorflow_examples/models/pix2pix/pix2pix.py) via the installed [tensorflow_examples](https://github.com/tensorflow/examples) package.\n",
    "\n",
    "The model architecture used in this tutorial is very similar to what was used in [pix2pix](https://github.com/tensorflow/examples/blob/master/tensorflow_examples/models/pix2pix/pix2pix.py). Some of the differences are:\n",
    "\n",
    "* Cyclegan uses [instance normalization](https://arxiv.org/abs/1607.08022) instead of [batch normalization](https://arxiv.org/abs/1502.03167).\n",
    "* The [CycleGAN paper](https://arxiv.org/abs/1703.10593) uses a modified `resnet` based generator. This tutorial is using a modified `unet` generator for simplicity.\n",
    "\n",
    "There are 2 generators (G and F) and 2 discriminators (X and Y) being trained here. \n",
    "\n",
    "* Generator `G` learns to transform image `X` to image `Y`. $(G: X -> Y)$\n",
    "* Generator `F` learns to transform image `Y` to image `X`. $(F: Y -> X)$\n",
    "* Discriminator `D_X` learns to differentiate between image `X` and generated image `X` (`F(Y)`).\n",
    "* Discriminator `D_Y` learns to differentiate between image `Y` and generated image `Y` (`G(X)`).\n",
    "\n",
    "![Cyclegan model](images/cyclegan_model.png)"
   ]
  },
  {
   "cell_type": "code",
   "execution_count": null,
   "metadata": {
    "execution": {
     "iopub.execute_input": "2022-08-03T01:21:38.191307Z",
     "iopub.status.busy": "2022-08-03T01:21:38.190702Z",
     "iopub.status.idle": "2022-08-03T01:21:39.802082Z",
     "shell.execute_reply": "2022-08-03T01:21:39.801308Z"
    },
    "id": "8ju9Wyw87MRW"
   },
   "outputs": [],
   "source": [
    "OUTPUT_CHANNELS = 3\n",
    "\n",
    "generator_g = pix2pix.unet_generator(OUTPUT_CHANNELS, norm_type='instancenorm')\n",
    "generator_f = pix2pix.unet_generator(OUTPUT_CHANNELS, norm_type='instancenorm')\n",
    "\n",
    "discriminator_x = pix2pix.discriminator(norm_type='instancenorm', target=False)\n",
    "discriminator_y = pix2pix.discriminator(norm_type='instancenorm', target=False)"
   ]
  },
  {
   "cell_type": "code",
   "execution_count": null,
   "metadata": {
    "execution": {
     "iopub.execute_input": "2022-08-03T01:21:39.806172Z",
     "iopub.status.busy": "2022-08-03T01:21:39.805554Z",
     "iopub.status.idle": "2022-08-03T01:21:46.190736Z",
     "shell.execute_reply": "2022-08-03T01:21:46.190127Z"
    },
    "id": "wDaGZ3WpZUyw"
   },
   "outputs": [],
   "source": [
    "to_zebra = generator_g(sample_horse)\n",
    "to_horse = generator_f(sample_zebra)\n",
    "plt.figure(figsize=(8, 8))\n",
    "contrast = 8\n",
    "\n",
    "imgs = [sample_horse, to_zebra, sample_zebra, to_horse]\n",
    "title = ['Horse', 'To Zebra', 'Zebra', 'To Horse']\n",
    "\n",
    "for i in range(len(imgs)):\n",
    "  plt.subplot(2, 2, i+1)\n",
    "  plt.title(title[i])\n",
    "  if i % 2 == 0:\n",
    "    plt.imshow(imgs[i][0] * 0.5 + 0.5)\n",
    "  else:\n",
    "    plt.imshow(imgs[i][0] * 0.5 * contrast + 0.5)\n",
    "plt.show()"
   ]
  },
  {
   "cell_type": "code",
   "execution_count": null,
   "metadata": {
    "execution": {
     "iopub.execute_input": "2022-08-03T01:21:46.200055Z",
     "iopub.status.busy": "2022-08-03T01:21:46.199463Z",
     "iopub.status.idle": "2022-08-03T01:21:46.394796Z",
     "shell.execute_reply": "2022-08-03T01:21:46.394197Z"
    },
    "id": "O5MhJmxyZiy9"
   },
   "outputs": [],
   "source": [
    "plt.figure(figsize=(8, 8))\n",
    "\n",
    "plt.subplot(121)\n",
    "plt.title('Is a real zebra?')\n",
    "plt.imshow(discriminator_y(sample_zebra)[0, ..., -1], cmap='RdBu_r')\n",
    "\n",
    "plt.subplot(122)\n",
    "plt.title('Is a real horse?')\n",
    "plt.imshow(discriminator_x(sample_horse)[0, ..., -1], cmap='RdBu_r')\n",
    "\n",
    "plt.show()"
   ]
  },
  {
   "cell_type": "markdown",
   "metadata": {
    "id": "0FMYgY_mPfTi"
   },
   "source": [
    "## Loss functions"
   ]
  },
  {
   "cell_type": "markdown",
   "metadata": {
    "id": "JRqt02lupRn8"
   },
   "source": [
    "In CycleGAN, there is no paired data to train on, hence there is no guarantee that the input `x` and the target `y` pair are meaningful during training. Thus in order to enforce that the network learns the correct mapping, the authors propose the cycle consistency loss.\n",
    "\n",
    "The discriminator loss and the generator loss are similar to the ones used in [pix2pix](https://www.tensorflow.org/tutorials/generative/pix2pix#build_the_generator)."
   ]
  },
  {
   "cell_type": "code",
   "execution_count": null,
   "metadata": {
    "execution": {
     "iopub.execute_input": "2022-08-03T01:21:46.398286Z",
     "iopub.status.busy": "2022-08-03T01:21:46.397771Z",
     "iopub.status.idle": "2022-08-03T01:21:46.400943Z",
     "shell.execute_reply": "2022-08-03T01:21:46.400324Z"
    },
    "id": "cyhxTuvJyIHV"
   },
   "outputs": [],
   "source": [
    "LAMBDA = 10"
   ]
  },
  {
   "cell_type": "code",
   "execution_count": null,
   "metadata": {
    "execution": {
     "iopub.execute_input": "2022-08-03T01:21:46.404148Z",
     "iopub.status.busy": "2022-08-03T01:21:46.403613Z",
     "iopub.status.idle": "2022-08-03T01:21:46.406803Z",
     "shell.execute_reply": "2022-08-03T01:21:46.406249Z"
    },
    "id": "Q1Xbz5OaLj5C"
   },
   "outputs": [],
   "source": [
    "loss_obj = tf.keras.losses.BinaryCrossentropy(from_logits=True)"
   ]
  },
  {
   "cell_type": "code",
   "execution_count": null,
   "metadata": {
    "execution": {
     "iopub.execute_input": "2022-08-03T01:21:46.409588Z",
     "iopub.status.busy": "2022-08-03T01:21:46.409152Z",
     "iopub.status.idle": "2022-08-03T01:21:46.412887Z",
     "shell.execute_reply": "2022-08-03T01:21:46.412284Z"
    },
    "id": "wkMNfBWlT-PV"
   },
   "outputs": [],
   "source": [
    "def discriminator_loss(real, generated):\n",
    "  real_loss = loss_obj(tf.ones_like(real), real)\n",
    "\n",
    "  generated_loss = loss_obj(tf.zeros_like(generated), generated)\n",
    "\n",
    "  total_disc_loss = real_loss + generated_loss\n",
    "\n",
    "  return total_disc_loss * 0.5"
   ]
  },
  {
   "cell_type": "code",
   "execution_count": null,
   "metadata": {
    "execution": {
     "iopub.execute_input": "2022-08-03T01:21:46.415941Z",
     "iopub.status.busy": "2022-08-03T01:21:46.415401Z",
     "iopub.status.idle": "2022-08-03T01:21:46.418484Z",
     "shell.execute_reply": "2022-08-03T01:21:46.417891Z"
    },
    "id": "90BIcCKcDMxz"
   },
   "outputs": [],
   "source": [
    "def generator_loss(generated):\n",
    "  return loss_obj(tf.ones_like(generated), generated)"
   ]
  },
  {
   "cell_type": "markdown",
   "metadata": {
    "id": "5iIWQzVF7f9e"
   },
   "source": [
    "Cycle consistency means the result should be close to the original input. For example, if one translates a sentence from English to French, and then translates it back from French to English, then the resulting sentence should be the same as the  original sentence.\n",
    "\n",
    "In cycle consistency loss, \n",
    "\n",
    "* Image $X$ is passed via generator $G$ that yields generated image $\\hat{Y}$.\n",
    "* Generated image $\\hat{Y}$ is passed via generator $F$ that yields cycled image $\\hat{X}$.\n",
    "* Mean absolute error is calculated between $X$ and $\\hat{X}$.\n",
    "\n",
    "$$forward\\ cycle\\ consistency\\ loss: X -> G(X) -> F(G(X)) \\sim \\hat{X}$$\n",
    "\n",
    "$$backward\\ cycle\\ consistency\\ loss: Y -> F(Y) -> G(F(Y)) \\sim \\hat{Y}$$\n",
    "\n",
    "\n",
    "![Cycle loss](images/cycle_loss.png)"
   ]
  },
  {
   "cell_type": "code",
   "execution_count": null,
   "metadata": {
    "execution": {
     "iopub.execute_input": "2022-08-03T01:21:46.421379Z",
     "iopub.status.busy": "2022-08-03T01:21:46.420894Z",
     "iopub.status.idle": "2022-08-03T01:21:46.424209Z",
     "shell.execute_reply": "2022-08-03T01:21:46.423683Z"
    },
    "id": "NMpVGj_sW6Vo"
   },
   "outputs": [],
   "source": [
    "def calc_cycle_loss(real_image, cycled_image):\n",
    "  loss1 = tf.reduce_mean(tf.abs(real_image - cycled_image))\n",
    "  \n",
    "  return LAMBDA * loss1"
   ]
  },
  {
   "cell_type": "markdown",
   "metadata": {
    "id": "U-tJL-fX0Mq7"
   },
   "source": [
    "As shown above, generator $G$ is responsible for translating image $X$ to image $Y$. Identity loss says that, if you fed image $Y$ to generator $G$, it should yield the real image $Y$ or something close to image $Y$.\n",
    "\n",
    "If you run the zebra-to-horse model on a horse or the horse-to-zebra model on a zebra, it should not modify the image much since the image already contains the target class.\n",
    "\n",
    "$$Identity\\ loss = |G(Y) - Y| + |F(X) - X|$$"
   ]
  },
  {
   "cell_type": "code",
   "execution_count": null,
   "metadata": {
    "execution": {
     "iopub.execute_input": "2022-08-03T01:21:46.427399Z",
     "iopub.status.busy": "2022-08-03T01:21:46.426829Z",
     "iopub.status.idle": "2022-08-03T01:21:46.430064Z",
     "shell.execute_reply": "2022-08-03T01:21:46.429533Z"
    },
    "id": "05ywEH680Aud"
   },
   "outputs": [],
   "source": [
    "def identity_loss(real_image, same_image):\n",
    "  loss = tf.reduce_mean(tf.abs(real_image - same_image))\n",
    "  return LAMBDA * 0.5 * loss"
   ]
  },
  {
   "cell_type": "markdown",
   "metadata": {
    "id": "G-vjRM7IffTT"
   },
   "source": [
    "Initialize the optimizers for all the generators and the discriminators."
   ]
  },
  {
   "cell_type": "code",
   "execution_count": null,
   "metadata": {
    "execution": {
     "iopub.execute_input": "2022-08-03T01:21:46.433042Z",
     "iopub.status.busy": "2022-08-03T01:21:46.432527Z",
     "iopub.status.idle": "2022-08-03T01:21:46.436666Z",
     "shell.execute_reply": "2022-08-03T01:21:46.436159Z"
    },
    "id": "iWCn_PVdEJZ7"
   },
   "outputs": [],
   "source": [
    "generator_g_optimizer = tf.keras.optimizers.Adam(2e-4, beta_1=0.5)\n",
    "generator_f_optimizer = tf.keras.optimizers.Adam(2e-4, beta_1=0.5)\n",
    "\n",
    "discriminator_x_optimizer = tf.keras.optimizers.Adam(2e-4, beta_1=0.5)\n",
    "discriminator_y_optimizer = tf.keras.optimizers.Adam(2e-4, beta_1=0.5)"
   ]
  },
  {
   "cell_type": "markdown",
   "metadata": {
    "id": "aKUZnDiqQrAh"
   },
   "source": [
    "## Checkpoints"
   ]
  },
  {
   "cell_type": "code",
   "execution_count": null,
   "metadata": {
    "execution": {
     "iopub.execute_input": "2022-08-03T01:21:46.439656Z",
     "iopub.status.busy": "2022-08-03T01:21:46.439237Z",
     "iopub.status.idle": "2022-08-03T01:21:46.444099Z",
     "shell.execute_reply": "2022-08-03T01:21:46.443490Z"
    },
    "id": "WJnftd5sQsv6"
   },
   "outputs": [],
   "source": [
    "checkpoint_path = \"./checkpoints/train\"\n",
    "\n",
    "ckpt = tf.train.Checkpoint(generator_g=generator_g,\n",
    "                           generator_f=generator_f,\n",
    "                           discriminator_x=discriminator_x,\n",
    "                           discriminator_y=discriminator_y,\n",
    "                           generator_g_optimizer=generator_g_optimizer,\n",
    "                           generator_f_optimizer=generator_f_optimizer,\n",
    "                           discriminator_x_optimizer=discriminator_x_optimizer,\n",
    "                           discriminator_y_optimizer=discriminator_y_optimizer)\n",
    "\n",
    "ckpt_manager = tf.train.CheckpointManager(ckpt, checkpoint_path, max_to_keep=5)\n",
    "\n",
    "# if a checkpoint exists, restore the latest checkpoint.\n",
    "if ckpt_manager.latest_checkpoint:\n",
    "  ckpt.restore(ckpt_manager.latest_checkpoint)\n",
    "  print ('Latest checkpoint restored!!')"
   ]
  },
  {
   "cell_type": "markdown",
   "metadata": {
    "id": "Rw1fkAczTQYh"
   },
   "source": [
    "## Training\n",
    "\n",
    "Note: This example model is trained for fewer epochs (10) than the paper (200) to keep training time reasonable for this tutorial. The generated images will have much lower quality."
   ]
  },
  {
   "cell_type": "code",
   "execution_count": null,
   "metadata": {
    "execution": {
     "iopub.execute_input": "2022-08-03T01:21:46.447498Z",
     "iopub.status.busy": "2022-08-03T01:21:46.446818Z",
     "iopub.status.idle": "2022-08-03T01:21:46.450091Z",
     "shell.execute_reply": "2022-08-03T01:21:46.449481Z"
    },
    "id": "NS2GWywBbAWo"
   },
   "outputs": [],
   "source": [
    "EPOCHS = 10"
   ]
  },
  {
   "cell_type": "code",
   "execution_count": null,
   "metadata": {
    "execution": {
     "iopub.execute_input": "2022-08-03T01:21:46.453040Z",
     "iopub.status.busy": "2022-08-03T01:21:46.452511Z",
     "iopub.status.idle": "2022-08-03T01:21:46.456950Z",
     "shell.execute_reply": "2022-08-03T01:21:46.456410Z"
    },
    "id": "RmdVsmvhPxyy"
   },
   "outputs": [],
   "source": [
    "def generate_images(model, test_input):\n",
    "  prediction = model(test_input)\n",
    "    \n",
    "  plt.figure(figsize=(12, 12))\n",
    "\n",
    "  display_list = [test_input[0], prediction[0]]\n",
    "  title = ['Input Image', 'Predicted Image']\n",
    "\n",
    "  for i in range(2):\n",
    "    plt.subplot(1, 2, i+1)\n",
    "    plt.title(title[i])\n",
    "    # getting the pixel values between [0, 1] to plot it.\n",
    "    plt.imshow(display_list[i] * 0.5 + 0.5)\n",
    "    plt.axis('off')\n",
    "  plt.show()"
   ]
  },
  {
   "cell_type": "markdown",
   "metadata": {
    "id": "kE47ERn5fyLC"
   },
   "source": [
    "Even though the training loop looks complicated, it consists of four basic steps:\n",
    "\n",
    "* Get the predictions.\n",
    "* Calculate the loss.\n",
    "* Calculate the gradients using backpropagation.\n",
    "* Apply the gradients to the optimizer."
   ]
  },
  {
   "cell_type": "code",
   "execution_count": null,
   "metadata": {
    "execution": {
     "iopub.execute_input": "2022-08-03T01:21:46.459969Z",
     "iopub.status.busy": "2022-08-03T01:21:46.459550Z",
     "iopub.status.idle": "2022-08-03T01:21:46.467394Z",
     "shell.execute_reply": "2022-08-03T01:21:46.466843Z"
    },
    "id": "KBKUV2sKXDbY"
   },
   "outputs": [],
   "source": [
    "@tf.function\n",
    "def train_step(real_x, real_y):\n",
    "  # persistent is set to True because the tape is used more than\n",
    "  # once to calculate the gradients.\n",
    "  with tf.GradientTape(persistent=True) as tape:\n",
    "    # Generator G translates X -> Y\n",
    "    # Generator F translates Y -> X.\n",
    "    \n",
    "    fake_y = generator_g(real_x, training=True)\n",
    "    cycled_x = generator_f(fake_y, training=True)\n",
    "\n",
    "    fake_x = generator_f(real_y, training=True)\n",
    "    cycled_y = generator_g(fake_x, training=True)\n",
    "\n",
    "    # same_x and same_y are used for identity loss.\n",
    "    same_x = generator_f(real_x, training=True)\n",
    "    same_y = generator_g(real_y, training=True)\n",
    "\n",
    "    disc_real_x = discriminator_x(real_x, training=True)\n",
    "    disc_real_y = discriminator_y(real_y, training=True)\n",
    "\n",
    "    disc_fake_x = discriminator_x(fake_x, training=True)\n",
    "    disc_fake_y = discriminator_y(fake_y, training=True)\n",
    "\n",
    "    # calculate the loss\n",
    "    gen_g_loss = generator_loss(disc_fake_y)\n",
    "    gen_f_loss = generator_loss(disc_fake_x)\n",
    "    \n",
    "    total_cycle_loss = calc_cycle_loss(real_x, cycled_x) + calc_cycle_loss(real_y, cycled_y)\n",
    "    \n",
    "    # Total generator loss = adversarial loss + cycle loss\n",
    "    total_gen_g_loss = gen_g_loss + total_cycle_loss + identity_loss(real_y, same_y)\n",
    "    total_gen_f_loss = gen_f_loss + total_cycle_loss + identity_loss(real_x, same_x)\n",
    "\n",
    "    disc_x_loss = discriminator_loss(disc_real_x, disc_fake_x)\n",
    "    disc_y_loss = discriminator_loss(disc_real_y, disc_fake_y)\n",
    "  \n",
    "  # Calculate the gradients for generator and discriminator\n",
    "  generator_g_gradients = tape.gradient(total_gen_g_loss, \n",
    "                                        generator_g.trainable_variables)\n",
    "  generator_f_gradients = tape.gradient(total_gen_f_loss, \n",
    "                                        generator_f.trainable_variables)\n",
    "  \n",
    "  discriminator_x_gradients = tape.gradient(disc_x_loss, \n",
    "                                            discriminator_x.trainable_variables)\n",
    "  discriminator_y_gradients = tape.gradient(disc_y_loss, \n",
    "                                            discriminator_y.trainable_variables)\n",
    "  \n",
    "  # Apply the gradients to the optimizer\n",
    "  generator_g_optimizer.apply_gradients(zip(generator_g_gradients, \n",
    "                                            generator_g.trainable_variables))\n",
    "\n",
    "  generator_f_optimizer.apply_gradients(zip(generator_f_gradients, \n",
    "                                            generator_f.trainable_variables))\n",
    "  \n",
    "  discriminator_x_optimizer.apply_gradients(zip(discriminator_x_gradients,\n",
    "                                                discriminator_x.trainable_variables))\n",
    "  \n",
    "  discriminator_y_optimizer.apply_gradients(zip(discriminator_y_gradients,\n",
    "                                                discriminator_y.trainable_variables))"
   ]
  },
  {
   "cell_type": "code",
   "execution_count": null,
   "metadata": {
    "execution": {
     "iopub.execute_input": "2022-08-03T01:21:46.470497Z",
     "iopub.status.busy": "2022-08-03T01:21:46.470022Z",
     "iopub.status.idle": "2022-08-03T02:01:30.682393Z",
     "shell.execute_reply": "2022-08-03T02:01:30.681676Z"
    },
    "id": "2M7LmLtGEMQJ"
   },
   "outputs": [],
   "source": [
    "for epoch in range(EPOCHS):\n",
    "  start = time.time()\n",
    "\n",
    "  n = 0\n",
    "  for image_x, image_y in tf.data.Dataset.zip((train_horses, train_zebras)):\n",
    "    train_step(image_x, image_y)\n",
    "    if n % 10 == 0:\n",
    "      print ('.', end='')\n",
    "    n += 1\n",
    "\n",
    "  clear_output(wait=True)\n",
    "  # Using a consistent image (sample_horse) so that the progress of the model\n",
    "  # is clearly visible.\n",
    "  generate_images(generator_g, sample_horse)\n",
    "\n",
    "  if (epoch + 1) % 5 == 0:\n",
    "    ckpt_save_path = ckpt_manager.save()\n",
    "    print ('Saving checkpoint for epoch {} at {}'.format(epoch+1,\n",
    "                                                         ckpt_save_path))\n",
    "\n",
    "  print ('Time taken for epoch {} is {} sec\\n'.format(epoch + 1,\n",
    "                                                      time.time()-start))"
   ]
  },
  {
   "cell_type": "markdown",
   "metadata": {
    "id": "1RGysMU_BZhx"
   },
   "source": [
    "## Generate using test dataset"
   ]
  },
  {
   "cell_type": "code",
   "execution_count": null,
   "metadata": {
    "execution": {
     "iopub.execute_input": "2022-08-03T02:01:30.686036Z",
     "iopub.status.busy": "2022-08-03T02:01:30.685460Z",
     "iopub.status.idle": "2022-08-03T02:01:32.511933Z",
     "shell.execute_reply": "2022-08-03T02:01:32.511306Z"
    },
    "id": "KUgSnmy2nqSP"
   },
   "outputs": [],
   "source": [
    "# Run the trained model on the test dataset\n",
    "for inp in test_horses.take(5):\n",
    "  generate_images(generator_g, inp)"
   ]
  },
  {
   "cell_type": "markdown",
   "metadata": {
    "id": "ABGiHY6fE02b"
   },
   "source": [
    "## Next steps\n",
    "\n",
    "This tutorial has shown how to implement CycleGAN starting from the generator and discriminator implemented in the [Pix2Pix](https://www.tensorflow.org/tutorials/generative/pix2pix) tutorial. As a next step, you could try using a different dataset from [TensorFlow Datasets](https://www.tensorflow.org/datasets/catalog/cycle_gan). \n",
    "\n",
    "You could also train for a larger number of epochs to improve the results, or you could implement the modified ResNet generator used in the [paper](https://arxiv.org/abs/1703.10593) instead of the U-Net generator used here."
   ]
  }
 ],
 "metadata": {
  "accelerator": "GPU",
  "colab": {
   "collapsed_sections": [],
   "name": "cyclegan.ipynb",
   "provenance": [],
   "toc_visible": true
  },
  "kernelspec": {
   "display_name": "Python 3 (ipykernel)",
   "language": "python",
   "name": "python3"
  },
  "language_info": {
   "codemirror_mode": {
    "name": "ipython",
    "version": 3
   },
   "file_extension": ".py",
   "mimetype": "text/x-python",
   "name": "python",
   "nbconvert_exporter": "python",
   "pygments_lexer": "ipython3",
   "version": "3.10.8"
  }
 },
 "nbformat": 4,
 "nbformat_minor": 1
}
