{
 "cells": [
  {
   "cell_type": "code",
   "execution_count": 1,
   "id": "e78c5734",
   "metadata": {},
   "outputs": [
    {
     "name": "stdout",
     "output_type": "stream",
     "text": [
      "Collecting seleniumNote: you may need to restart the kernel to use updated packages.\n",
      "  Downloading selenium-4.6.0-py3-none-any.whl (5.2 MB)\n",
      "Collecting trio-websocket~=0.9\n",
      "  Downloading trio_websocket-0.9.2-py3-none-any.whl (16 kB)\n",
      "Requirement already satisfied: certifi>=2021.10.8 in c:\\users\\hanna\\anaconda3\\lib\\site-packages (from selenium) (2021.10.8)\n",
      "Collecting trio~=0.17\n",
      "  Downloading trio-0.22.0-py3-none-any.whl (384 kB)\n",
      "Requirement already satisfied: urllib3[socks]~=1.26 in c:\\users\\hanna\\anaconda3\\lib\\site-packages (from selenium) (1.26.9)\n",
      "\n",
      "Requirement already satisfied: sniffio in c:\\users\\hanna\\anaconda3\\lib\\site-packages (from trio~=0.17->selenium) (1.2.0)\n",
      "Collecting exceptiongroup>=1.0.0rc9\n",
      "  Downloading exceptiongroup-1.0.4-py3-none-any.whl (14 kB)\n",
      "Requirement already satisfied: attrs>=19.2.0 in c:\\users\\hanna\\anaconda3\\lib\\site-packages (from trio~=0.17->selenium) (21.4.0)\n",
      "Requirement already satisfied: cffi>=1.14 in c:\\users\\hanna\\anaconda3\\lib\\site-packages (from trio~=0.17->selenium) (1.15.0)\n",
      "Requirement already satisfied: sortedcontainers in c:\\users\\hanna\\anaconda3\\lib\\site-packages (from trio~=0.17->selenium) (2.4.0)\n",
      "Collecting outcome\n",
      "  Downloading outcome-1.2.0-py2.py3-none-any.whl (9.7 kB)\n",
      "Collecting async-generator>=1.9\n",
      "  Downloading async_generator-1.10-py3-none-any.whl (18 kB)\n",
      "Requirement already satisfied: idna in c:\\users\\hanna\\anaconda3\\lib\\site-packages (from trio~=0.17->selenium) (3.3)\n",
      "Requirement already satisfied: pycparser in c:\\users\\hanna\\anaconda3\\lib\\site-packages (from cffi>=1.14->trio~=0.17->selenium) (2.21)\n",
      "Collecting wsproto>=0.14\n",
      "  Downloading wsproto-1.2.0-py3-none-any.whl (24 kB)\n",
      "Requirement already satisfied: PySocks!=1.5.7,<2.0,>=1.5.6 in c:\\users\\hanna\\anaconda3\\lib\\site-packages (from urllib3[socks]~=1.26->selenium) (1.7.1)\n",
      "Collecting h11<1,>=0.9.0\n",
      "  Downloading h11-0.14.0-py3-none-any.whl (58 kB)\n",
      "Installing collected packages: outcome, h11, exceptiongroup, async-generator, wsproto, trio, trio-websocket, selenium\n",
      "Successfully installed async-generator-1.10 exceptiongroup-1.0.4 h11-0.14.0 outcome-1.2.0 selenium-4.6.0 trio-0.22.0 trio-websocket-0.9.2 wsproto-1.2.0\n"
     ]
    }
   ],
   "source": [
    "#pip install selenium"
   ]
  },
  {
   "cell_type": "code",
   "execution_count": 2,
   "id": "0f5a9c23",
   "metadata": {},
   "outputs": [],
   "source": [
    "import os\n",
    "import selenium\n",
    "from selenium import webdriver \n",
    "import base64\n",
    "import time\n",
    "import urllib.request"
   ]
  },
  {
   "cell_type": "markdown",
   "id": "df2ec61a",
   "metadata": {},
   "source": [
    "Disons qu'on veut pouvoir reconstruire le background d'une maison "
   ]
  },
  {
   "cell_type": "code",
   "execution_count": 6,
   "id": "a2f8c353",
   "metadata": {},
   "outputs": [
    {
     "data": {
      "text/plain": [
       "\"\\n#DRIVER_PATH = '/usr/local/bin/chromedriver'\\nDRIVER_PATH='C:/Program Files/Google/Chrome'\\n\\nSAVE_FOLDER = 'helmet_images_4/'\\n\\nGOOGLE_IMAGES = 'https://www.google.com/search?q=interior+house+background&tbm=isch&ved=2ahUKEwiy6P39pMn7AhUKWhoKHYhJD18Q2-cCegQIABAA&oq=interior+house+background&gs_lcp=CgNpbWcQAzIFCAAQgAQyBggAEAcQHjIGCAAQBxAeMgQIABAeMgQIABAeMgQIABAeMgYIABAFEB4yBggAEAUQHjIGCAAQBRAeMgYIABAFEB46BAgjECc6BwgAELEDEEM6BAgAEEM6BwgAEIAEEBM6CAgAEAcQHhATOggIABAFEAcQHlCrEVj3lgFgq5gBaABwAHgAgAFMiAGpBpIBAjE2mAEAoAEBqgELZ3dzLXdpei1pbWfAAQE&sclient=img&ei=GK-AY7L8HYq0aYiTvfgF&bih=732&biw=714&rlz=1C5CHFA_enGB937GB937'\\n\\ndriver = webdriver.Chrome(DRIVER_PATH)\\ndriver.get(GOOGLE_IMAGES)\\n\""
      ]
     },
     "execution_count": 6,
     "metadata": {},
     "output_type": "execute_result"
    }
   ],
   "source": [
    "'''\n",
    "#DRIVER_PATH = '/usr/local/bin/chromedriver'\n",
    "DRIVER_PATH='C:/Program Files/Google/Chrome'\n",
    "\n",
    "SAVE_FOLDER = 'helmet_images_4/'\n",
    "\n",
    "GOOGLE_IMAGES = 'https://www.google.com/search?q=interior+house+background&tbm=isch&ved=2ahUKEwiy6P39pMn7AhUKWhoKHYhJD18Q2-cCegQIABAA&oq=interior+house+background&gs_lcp=CgNpbWcQAzIFCAAQgAQyBggAEAcQHjIGCAAQBxAeMgQIABAeMgQIABAeMgQIABAeMgYIABAFEB4yBggAEAUQHjIGCAAQBRAeMgYIABAFEB46BAgjECc6BwgAELEDEEM6BAgAEEM6BwgAEIAEEBM6CAgAEAcQHhATOggIABAFEAcQHlCrEVj3lgFgq5gBaABwAHgAgAFMiAGpBpIBAjE2mAEAoAEBqgELZ3dzLXdpei1pbWfAAQE&sclient=img&ei=GK-AY7L8HYq0aYiTvfgF&bih=732&biw=714&rlz=1C5CHFA_enGB937GB937'\n",
    "\n",
    "driver = webdriver.Chrome(DRIVER_PATH)\n",
    "driver.get(GOOGLE_IMAGES)\n",
    "'''"
   ]
  },
  {
   "cell_type": "code",
   "execution_count": null,
   "id": "08932c21",
   "metadata": {},
   "outputs": [],
   "source": []
  },
  {
   "cell_type": "code",
   "execution_count": null,
   "id": "cf3f129e",
   "metadata": {},
   "outputs": [],
   "source": []
  }
 ],
 "metadata": {
  "kernelspec": {
   "display_name": "Python 3 (ipykernel)",
   "language": "python",
   "name": "python3"
  },
  "language_info": {
   "codemirror_mode": {
    "name": "ipython",
    "version": 3
   },
   "file_extension": ".py",
   "mimetype": "text/x-python",
   "name": "python",
   "nbconvert_exporter": "python",
   "pygments_lexer": "ipython3",
   "version": "3.9.12"
  }
 },
 "nbformat": 4,
 "nbformat_minor": 5
}
